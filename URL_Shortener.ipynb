{
 "cells": [
  {
   "cell_type": "code",
   "execution_count": 1,
   "id": "b8b32098",
   "metadata": {},
   "outputs": [],
   "source": [
    "from tkinter import *\n",
    "import pyshorteners\n",
    "import pyperclip\n",
    "\n",
    "\n",
    "\n",
    "def shorten_url():\n",
    "    URL = LongURL.get()\n",
    "    s = pyshorteners.Shortener()\n",
    "    shortened_url = s.tinyurl.short(URL)\n",
    "    result_url.config(text=f\"Shortened URL: {shortened_url}\")\n",
    "    global new_url\n",
    "    new_url = shortened_url\n",
    "\n",
    "def copy_funcn():\n",
    "    pyperclip.copy(new_url)\n",
    "\n",
    "\n",
    "window=Tk()\n",
    "window.title(\"URL Shortener\")\n",
    "window.geometry(\"500x250\")\n",
    "window.configure(bg=\"pink\")\n",
    "label1=Label(window, text=\"URL Shortening Window\", font=(\"calibri \",26, \"bold\"), fg=\"grey\")\n",
    "label1.pack(fill=BOTH)\n",
    "\n",
    "\n",
    "Longurl=StringVar()\n",
    "LongURL=Entry(window,textvariable=Longurl, bg=\"white\", width=40)\n",
    "LongURL.place(x=120 , y=80)\n",
    "\n",
    "button1=Button(window, text='Generate New URL',command=shorten_url, width=15)\n",
    "button1.place(x=180, y=120)         \n",
    "\n",
    "result_url = Label(window, text=\"\", font=(\"calibri\", 12),bg=\"pink\")\n",
    "result_url.place(x=120 , y=160)\n",
    "\n",
    "button2=Button(window, text='Copy New URL', width=15,command=copy_funcn)\n",
    "button2.place(x=180, y=200)\n",
    "\n",
    "window.mainloop()"
   ]
  }
 ],
 "metadata": {
  "kernelspec": {
   "display_name": "Python 3 (ipykernel)",
   "language": "python",
   "name": "python3"
  },
  "language_info": {
   "codemirror_mode": {
    "name": "ipython",
    "version": 3
   },
   "file_extension": ".py",
   "mimetype": "text/x-python",
   "name": "python",
   "nbconvert_exporter": "python",
   "pygments_lexer": "ipython3",
   "version": "3.10.9"
  }
 },
 "nbformat": 4,
 "nbformat_minor": 5
}
